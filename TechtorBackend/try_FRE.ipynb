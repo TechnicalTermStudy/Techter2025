{
 "cells": [
  {
   "cell_type": "code",
   "execution_count": 2,
   "id": "c3bf0f9c",
   "metadata": {},
   "outputs": [
    {
     "data": {
      "text/plain": [
       "51.38"
      ]
     },
     "execution_count": 2,
     "metadata": {},
     "output_type": "execute_result"
    }
   ],
   "source": [
    "import textstat\n",
    "\n",
    "\n",
    "explanation = \"In the Service Cambridge Alexa skill privacy policy, the company behind the skills, including myDurham 311, is in charge of handling your data. They are called the Data Controller, which means they decide how and why your data is used. Amazon, which provides the Alexa platform, acts as a Data Processor, handling data based on instructions from the Data Controller. Sometimes, other companies might be involved to help provide services, like processing payments or sending notifications. These groups work together to make sure your information is used correctly while you use services like parking or property concerns through Alexa.\"\n",
    "\n",
    "FRE_score = textstat.flesch_reading_ease(explanation)\n",
    "FRE_score"
   ]
  }
 ],
 "metadata": {
  "kernelspec": {
   "display_name": "nevaeh",
   "language": "python",
   "name": "python3"
  },
  "language_info": {
   "codemirror_mode": {
    "name": "ipython",
    "version": 3
   },
   "file_extension": ".py",
   "mimetype": "text/x-python",
   "name": "python",
   "nbconvert_exporter": "python",
   "pygments_lexer": "ipython3",
   "version": "3.9.18"
  }
 },
 "nbformat": 4,
 "nbformat_minor": 5
}
